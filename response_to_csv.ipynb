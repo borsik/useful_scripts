{
 "cells": [
  {
   "cell_type": "code",
   "execution_count": 5,
   "metadata": {
    "ExecuteTime": {
     "end_time": "2018-01-18T18:54:37.970891Z",
     "start_time": "2018-01-18T18:54:37.959383Z"
    }
   },
   "outputs": [],
   "source": [
    "import re\n",
    "import os\n",
    "import gzip\n",
    "import sys\n",
    "import csv\n"
   ]
  },
  {
   "cell_type": "code",
   "execution_count": 24,
   "metadata": {
    "ExecuteTime": {
     "end_time": "2018-01-18T19:27:11.662803Z",
     "start_time": "2018-01-18T19:27:11.417714Z"
    }
   },
   "outputs": [
    {
     "name": "stdout",
     "output_type": "stream",
     "text": [
      "backend-2018-01-11-10-10-3.log.txt\n",
      "backend-2017-12-25-06-11-3.log.txt\n",
      "backend-2018-01-11-10-10-2.log.txt\n",
      "backend-2017-12-25-06-11-2.log.txt\n",
      "backend-2018-01-11-10-10-1.log.txt\n",
      "backend-2017-12-25-06-11-1.log.txt\n",
      "backend-2018-01-19-18-10-2.log.txt\n",
      "backend-2018-01-19-18-10-3.log.txt\n",
      "backend-2018-01-03-02-08-1.log.txt\n",
      "backend-2018-01-03-02-08-3.log.txt\n",
      "backend-2018-01-19-18-10-1.log.txt\n",
      "backend-2018-01-03-02-08-2.log.txt\n"
     ]
    }
   ],
   "source": [
    "time_regex = re.compile(r\"\\d{4}-\\d{2}-\\d{2} \\d{2}:\\d{2}:\\d{2}.\\d{3}\")\n",
    "number_regex = re.compile(r\"\\d{1}-\\d{5,}\")\n",
    "\n",
    "content = [\"timestamp\", \"request number\", \"error type\", \"filename\"]\n",
    "for filename in os.listdir(os.getcwd()):\n",
    "    if filename.endswith(\".log.txt\"):\n",
    "        print(filename)\n",
    "        with open(filename, 'r') as in_file:\n",
    "            for idx, line in enumerate(in_file):\n",
    "                if re.match(\".*\\d{4}-\\d{2}-\\d{2}.*INF.*\", line):\n",
    "                    time = time_regex.findall(line)[0]\n",
    "                    content.append(time)\n",
    "                if \"/RequestNumber\" in line:\n",
    "                    number = number_regex.findall(line)[0]\n",
    "                    content.append(number)\n",
    "                    content.append(\"no receipt date\")\n",
    "                    content.append(filename)\n",
    "\n",
    "with open(\"outline.csv\", 'w', newline='') as csvfile:\n",
    "    writer = csv.writer(csvfile, delimiter=';')\n",
    "    for i in range(0, len(content), 4):\n",
    "        writer.writerow([content[i], content[i+1], content[i+2], content[i+3]])\n"
   ]
  },
  {
   "cell_type": "code",
   "execution_count": 7,
   "metadata": {
    "ExecuteTime": {
     "end_time": "2018-01-18T18:54:39.627616Z",
     "start_time": "2018-01-18T18:54:39.622199Z"
    }
   },
   "outputs": [],
   "source": []
  },
  {
   "cell_type": "code",
   "execution_count": null,
   "metadata": {},
   "outputs": [],
   "source": []
  }
 ],
 "metadata": {
  "kernelspec": {
   "display_name": "Python 3",
   "language": "python",
   "name": "python3"
  },
  "language_info": {
   "codemirror_mode": {
    "name": "ipython",
    "version": 3
   },
   "file_extension": ".py",
   "mimetype": "text/x-python",
   "name": "python",
   "nbconvert_exporter": "python",
   "pygments_lexer": "ipython3",
   "version": "3.6.0"
  },
  "varInspector": {
   "cols": {
    "lenName": 16,
    "lenType": 16,
    "lenVar": 40
   },
   "kernels_config": {
    "python": {
     "delete_cmd_postfix": "",
     "delete_cmd_prefix": "del ",
     "library": "var_list.py",
     "varRefreshCmd": "print(var_dic_list())"
    },
    "r": {
     "delete_cmd_postfix": ") ",
     "delete_cmd_prefix": "rm(",
     "library": "var_list.r",
     "varRefreshCmd": "cat(var_dic_list()) "
    }
   },
   "types_to_exclude": [
    "module",
    "function",
    "builtin_function_or_method",
    "instance",
    "_Feature"
   ],
   "window_display": false
  }
 },
 "nbformat": 4,
 "nbformat_minor": 2
}
